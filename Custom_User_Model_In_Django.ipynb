{
  "nbformat": 4,
  "nbformat_minor": 0,
  "metadata": {
    "colab": {
      "provenance": [],
      "authorship_tag": "ABX9TyMuKWiZAv1Slpy6Cw5E+/PM",
      "include_colab_link": true
    },
    "kernelspec": {
      "name": "python3",
      "display_name": "Python 3"
    },
    "language_info": {
      "name": "python"
    }
  },
  "cells": [
    {
      "cell_type": "markdown",
      "metadata": {
        "id": "view-in-github",
        "colab_type": "text"
      },
      "source": [
        "<a href=\"https://colab.research.google.com/github/Suraj5188/Django_Tutorial_Python/blob/main/Custom_User_Model_In_Django.ipynb\" target=\"_parent\"><img src=\"https://colab.research.google.com/assets/colab-badge.svg\" alt=\"Open In Colab\"/></a>"
      ]
    },
    {
      "cell_type": "markdown",
      "source": [
        "# **What is User Model first of all**\n",
        "\n",
        "The User Model in Django refers to the core model provided by Django's authentication system for managing user accounts. It represents user-related data and provides the functionality needed for user authentication, permission management, and other user-related operations in a web application. The User Model is a fundamental part of many Django projects as it handles the basics of user registration, login, and security.\n",
        "\n",
        "The built-in User Model is available in the `django.contrib.auth.models` module, and it includes the following fields, among others:\n",
        "\n",
        "1. `username`: A unique identifier for the user, often used for login.\n",
        "2. `email`: The email address associated with the user.\n",
        "3. `password`: A secure hash of the user's password.\n",
        "4. `first_name`: The user's first name.\n",
        "5. `last_name`: The user's last name.\n",
        "6. `date_joined`: The date and time when the user account was created.\n",
        "\n",
        "The User Model also provides built-in authentication mechanisms and methods, such as password hashing, login, logout, user permissions, and session management. It serves as the foundation for handling user-related operations and integrates seamlessly with Django's built-in views and forms for user authentication.\n",
        "\n",
        "In many cases, the built-in User Model is sufficient for handling user accounts, especially in simpler projects. However, for more complex projects or cases where you need to extend the user data with additional fields or customize the authentication process (e.g., using email as the primary identifier instead of username), you might consider creating a Custom User Model, which is an extension of the built-in User Model with additional fields and custom behavior to meet the specific requirements of your application."
      ],
      "metadata": {
        "id": "rckTkHOw4Jhi"
      }
    },
    {
      "cell_type": "markdown",
      "source": [
        "# **Custom user model in Django**\n",
        "\n",
        "**A custom user model in Django** refers to the ability to create a user model tailored to the specific needs of your application, as opposed to using Django's built-in User model. Django's authentication system comes with a default User model, which is designed to handle basic user authentication scenarios. However, in many real-world projects, you might need to extend the user model with additional fields, methods, or behavior to meet the unique requirements of your application.\n",
        "\n",
        "**A custom user model allows you to:**\n",
        "\n",
        "Add custom fields: You can include extra fields in the user model to store additional information about users beyond the basic fields provided by the default User model, such as a profile image, date of birth, phone number, or any other user-specific attributes.\n",
        "\n",
        "**Customize authentication:**\n",
        "\n",
        "You can customize the way users authenticate and interact with your application, including the username field, authentication methods, and any additional data required for login.\n",
        "\n",
        "**Integrate with other models:**\n",
        " You can establish relationships between your custom user model and other models in your application. For example, you might want to associate user-specific data with other database tables.\n",
        "\n",
        "**Add custom methods:**\n",
        "\n",
        " You can define methods on the custom user model to encapsulate specific behavior that relates to users. For example, you might define methods for generating full names, checking user roles, or performing actions related to users.\n",
        "\n",
        "**Enhance security:**\n",
        "\n",
        "By customizing the user model, you can implement additional security features or user-specific validation rules based on your application's requirements.\n",
        "\n",
        "Creating a custom user model in Django involves creating a new model that inherits from **AbstractBaseUser** and **PermissionsMixin**, defining the fields you need, specifying the authentication method (usually email or username), and updating references throughout your application to use the custom user model. This allows you to have a user model that aligns with your application's domain and functionality.\n",
        "\n",
        "By creating a custom user model, you have greater flexibility and control over the user-related aspects of your Django project, ensuring that your user management system meets the specific needs of your application."
      ],
      "metadata": {
        "id": "M0FWJpX1oVyY"
      }
    },
    {
      "cell_type": "markdown",
      "source": [
        "# **Difference between custom user model and built in model**\n",
        "\n",
        "In Django, the terms \"custom user model\" and \"built-in user model\" refer to two different approaches for handling user authentication and user-related data in a web application.\n",
        "\n",
        "1. **Built-in User Model**:\n",
        "\n",
        "   The built-in user model is provided by Django's authentication system as part of the `django.contrib.auth` package. This model includes basic fields such as `username`, `email`, `password`, `first_name`, `last_name`, etc. It also handles authentication and permissions out of the box. When you start a new Django project, this is the default user model used unless you decide to create a custom user model.\n",
        "\n",
        "2. **Custom User Model**:\n",
        "\n",
        "   A custom user model is a user model that you create yourself by defining a new model in your Django application that inherits from `AbstractBaseUser` and `PermissionsMixin`. This allows you to extend the built-in user model and add your own fields, methods, and behavior tailored to the specific needs of your application. Creating a custom user model is useful when the built-in user model doesn't cover all the information you want to store about users or when you need to implement custom authentication methods (e.g., using email as the primary identifier).\n",
        "\n",
        "Here's a brief comparison of the two:\n",
        "\n",
        "**Built-in User Model:**\n",
        "- Provides basic fields (e.g., `username`, `email`, `password`).\n",
        "- Offers basic authentication and permissions.\n",
        "- Suitable for simple use cases.\n",
        "- Automatically created when you start a new Django project.\n",
        "- Can be used by importing `User` from `django.contrib.auth.models`.\n",
        "\n",
        "**Custom User Model:**\n",
        "- Allows you to define additional fields (e.g., profile image, date of birth) and methods specific to your application.\n",
        "- Provides more flexibility for user-related data.\n",
        "- Requires defining a custom user model in your application.\n",
        "- Recommended for applications with specific user requirements.\n",
        "- Can be used by importing the custom user model you've defined.\n",
        "\n",
        "Both approaches have their use cases, and the choice between using the built-in user model or creating a custom user model depends on the complexity and specific needs of your project. If you need to store extra user information or implement custom authentication methods, a custom user model is usually the way to go."
      ],
      "metadata": {
        "id": "lyJf0p_85awm"
      }
    },
    {
      "cell_type": "markdown",
      "source": [
        "# **steps to creating the custom user model**\n",
        "\n",
        "Creating a custom user model in Django involves several steps to extend the built-in User model with additional fields and behavior to match the specific needs of your application. Here are the steps to create a custom user model:\n",
        "\n",
        "1. Create a new Django project or use an existing one:\n",
        "\n",
        "**django-admin startproject projectname**\n",
        "\n",
        "**cd projectname**\n",
        "\n",
        "2. Create a new app for user-related functionality:\n",
        "\n",
        "**python manage.py startapp users**\n",
        "\n",
        "3. Define the Custom User Model:\n",
        "\n",
        "In the users/models.py file, define your custom user model by creating a class that inherits from AbstractBaseUser and PermissionsMixin. Add any additional fields you need.\n",
        "\n",
        "from django.contrib.auth.models import AbstractBaseUser, BaseUserManager, PermissionsMixin\n",
        "from django.db import models\n",
        "\n",
        "class CustomUserManager(BaseUserManager):\n",
        "    # Custom manager methods\n",
        "\n",
        "class CustomUser(AbstractBaseUser, PermissionsMixin):\n",
        "    # Custom user fields (in addition to the basic fields)\n",
        "    email = models.EmailField(unique=True)\n",
        "    first_name = models.CharField(max_length=30)\n",
        "    last_name = models.CharField(max_length=30)\n",
        "    # Add more custom fields as needed\n",
        "\n",
        "    # Specify the field to use for authentication (e.g., email)\n",
        "    USERNAME_FIELD = 'email'\n",
        "\n",
        "    # Define additional fields required for user creation (optional)\n",
        "    REQUIRED_FIELDS = ['first_name', 'last_name']\n",
        "\n",
        "    # Add the custom user manager\n",
        "    objects = CustomUserManager()\n",
        "\n",
        "4. Create a Custom User Manager:\n",
        "\n",
        "Create a custom manager class (e.g., CustomUserManager) to handle user-related operations. This is useful if you need to implement custom methods for user creation or management.\n",
        "\n",
        "5. Update the Settings to Use the Custom User Model:\n",
        "\n",
        "In your project's settings.py file (projectname/settings.py), specify the custom user model to be used:\n",
        "\n",
        "**AUTH_USER_MODEL = 'users.CustomUser'**\n",
        "\n",
        "6. Create and Apply Database Migrations:\n",
        "\n",
        "Run the following commands to create and apply the initial database migration for the new custom user model:\n",
        "\n",
        "python manage.py makemigrations\n",
        "python manage.py migrate\n",
        "\n",
        "7. Update References to Use the Custom User Model:\n",
        "\n",
        "Throughout your project, replace references to the default User model with references to your custom user model (CustomUser).\n",
        "\n",
        "Create Forms, Views, and Templates:\n",
        "\n",
        "8. Create forms, views, and templates for user registration, authentication, and other user-related functionalities based on your project's requirements.\n",
        "\n",
        "9. Test and Verify:\n",
        "\n",
        "Thoroughly test the custom user model and user-related functionality to ensure everything is working as expected.\n",
        "\n",
        "By following these steps, you'll create a custom user model in Django that aligns with your application's specific needs. Remember to handle user registration, authentication, and other user-related operations based on your project's requirements."
      ],
      "metadata": {
        "id": "MU1nE0WW9xek"
      }
    },
    {
      "cell_type": "markdown",
      "source": [
        "#**models.py**"
      ],
      "metadata": {
        "id": "-ndASak-Pbg5"
      }
    },
    {
      "cell_type": "code",
      "source": [
        "from django.db import models\n",
        "from django.contrib.auth.models import AbstractUser\n",
        "from .manager import UserManager\n",
        "\n",
        "# Create your models here.\n",
        "\n",
        "class User(AbstractUser):\n",
        "\n",
        "          username=None\n",
        "          email=models.EmailField(unique=True)\n",
        "          mobile=models.CharField(max_length=14)\n",
        "          is_verified=models.BooleanField(default=False)\n",
        "          email_token = models.CharField(max_length=100,null=True,blank=True)\n",
        "          forget_password = models.CharField(max_length=100,null=True,blank=True)\n",
        "\n",
        "          last_login=models.DateTimeField(null=True, blank=True)\n",
        "          first_login=models.DateTimeField(null=True, blank=True)\n",
        "\n",
        "          objects=UserManager()\n",
        "\n",
        "          USERNAME_FIELD='email'\n",
        "\n",
        "          REQUIRED_FIELDS=[]\n"
      ],
      "metadata": {
        "id": "k62BEgZm-EAT"
      },
      "execution_count": null,
      "outputs": []
    },
    {
      "cell_type": "markdown",
      "source": [
        "#**manager.py**"
      ],
      "metadata": {
        "id": "tfry_EU2Pne6"
      }
    },
    {
      "cell_type": "code",
      "source": [
        "from django.contrib.auth.base_user import BaseUserManager\n",
        "\n",
        "class UserManager(BaseUserManager):\n",
        "          use_in_migrations = True\n",
        "\n",
        "          def create_user(self, email, password=None, **extra_fields):\n",
        "                  if not email:\n",
        "                          raise ValueError('Users must have an email address')\n",
        "\n",
        "                  email=self.normalize_email(email)\n",
        "                  user=self.model(email=email, **extra_fields)\n",
        "                  user.set_password(password)\n",
        "                  user.save(using=self._db)\n",
        "\n",
        "                  return user\n",
        "\n",
        "          def create_superuser(self, email, password,**extra_fields):\n",
        "                  extra_fields.setdefault('is_staff', True)\n",
        "                  extra_fields.setdefault('is_superuser', True)\n",
        "                  extra_fields.setdefault('is_active', True)\n",
        "\n",
        "                  if extra_fields.get('is_staff') is not True:\n",
        "                          raise ValueError('Superuser must have is_staff=True.')\n",
        "\n",
        "                  return self.create_user(email, password, **extra_fields)"
      ],
      "metadata": {
        "id": "3vkrF-0EPmgE"
      },
      "execution_count": null,
      "outputs": []
    },
    {
      "cell_type": "markdown",
      "source": [
        "#**admin.py**"
      ],
      "metadata": {
        "id": "EZa2jzYuPx2r"
      }
    },
    {
      "cell_type": "code",
      "source": [
        "from django.contrib import admin\n",
        "from .models import *\n",
        "\n",
        "# Register your models here.\n",
        "admin.site.register(User)"
      ],
      "metadata": {
        "id": "zkhQn1foPxQ0"
      },
      "execution_count": null,
      "outputs": []
    },
    {
      "cell_type": "markdown",
      "source": [
        "#**setting.py**"
      ],
      "metadata": {
        "id": "yoTP-WGiP5Q7"
      }
    },
    {
      "cell_type": "code",
      "source": [
        "#AUTH_USER_MODEL='<appname>.<model_class_name>'\n",
        "AUTH_USER_MODEL='myapp1.User'"
      ],
      "metadata": {
        "id": "MFRp-Sy9P9lj"
      },
      "execution_count": null,
      "outputs": []
    }
  ]
}